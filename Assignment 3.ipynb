{
 "cells": [
  {
   "cell_type": "code",
   "execution_count": 6,
   "id": "c3b0cca2",
   "metadata": {},
   "outputs": [],
   "source": [
    "# for handeling data\n",
    "import pandas as pd\n",
    "\n",
    "# for mathematical manipulation\n",
    "import numpy as np\n",
    "\n",
    "# the actual classification algorithm\n",
    "from sklearn.svm import LinearSVC\n",
    "from sklearn.linear_model import SGDClassifier\n",
    "\n",
    "# for converting training and test datasets into matrices\n",
    "# TfidfVectorizer does this specifically for documents\n",
    "from sklearn.feature_extraction.text import TfidfVectorizer\n",
    "\n",
    "# for bundling the vectorizer and the classifier as a single \"package\"\n",
    "from sklearn.pipeline import make_pipeline\n",
    "\n",
    "# for splitting the dataset into training and test sets \n",
    "from sklearn.model_selection import train_test_split\n",
    "\n",
    "# for evaluating the quality of the classifier\n",
    "from sklearn.metrics import accuracy_score\n",
    "\n",
    "#for plotting\n",
    "import matplotlib.pyplot as plt"
   ]
  },
  {
   "cell_type": "markdown",
   "id": "a206b067",
   "metadata": {},
   "source": [
    "## Data preprocessing"
   ]
  },
  {
   "cell_type": "code",
   "execution_count": 2,
   "id": "1a63fd92",
   "metadata": {},
   "outputs": [
    {
     "data": {
      "text/html": [
       "<div>\n",
       "<style scoped>\n",
       "    .dataframe tbody tr th:only-of-type {\n",
       "        vertical-align: middle;\n",
       "    }\n",
       "\n",
       "    .dataframe tbody tr th {\n",
       "        vertical-align: top;\n",
       "    }\n",
       "\n",
       "    .dataframe thead th {\n",
       "        text-align: right;\n",
       "    }\n",
       "</style>\n",
       "<table border=\"1\" class=\"dataframe\">\n",
       "  <thead>\n",
       "    <tr style=\"text-align: right;\">\n",
       "      <th></th>\n",
       "      <th>sentiment</th>\n",
       "      <th>comment</th>\n",
       "    </tr>\n",
       "  </thead>\n",
       "  <tbody>\n",
       "    <tr>\n",
       "      <th>877</th>\n",
       "      <td>0</td>\n",
       "      <td>“Be a guinea pig for the vaccine, the benefits...</td>\n",
       "    </tr>\n",
       "    <tr>\n",
       "      <th>878</th>\n",
       "      <td>0</td>\n",
       "      <td>“Medical professionals” that don’t even eat he...</td>\n",
       "    </tr>\n",
       "    <tr>\n",
       "      <th>879</th>\n",
       "      <td>1</td>\n",
       "      <td>“This bridge is only 99% safe so we should jus...</td>\n",
       "    </tr>\n",
       "    <tr>\n",
       "      <th>880</th>\n",
       "      <td>0</td>\n",
       "      <td>“We cannot have normality until everyone globa...</td>\n",
       "    </tr>\n",
       "    <tr>\n",
       "      <th>881</th>\n",
       "      <td>1</td>\n",
       "      <td>”i’d do anything to keep my child safe” except...</td>\n",
       "    </tr>\n",
       "  </tbody>\n",
       "</table>\n",
       "</div>"
      ],
      "text/plain": [
       "    sentiment                                            comment\n",
       "877         0  “Be a guinea pig for the vaccine, the benefits...\n",
       "878         0  “Medical professionals” that don’t even eat he...\n",
       "879         1  “This bridge is only 99% safe so we should jus...\n",
       "880         0  “We cannot have normality until everyone globa...\n",
       "881         1  ”i’d do anything to keep my child safe” except..."
      ]
     },
     "execution_count": 2,
     "metadata": {},
     "output_type": "execute_result"
    }
   ],
   "source": [
    "# import the training data\n",
    "df_train = pd.read_csv('http://www.cse.chalmers.se/~richajo/dit866/assignments/a3/data/a3_train_final.tsv',\n",
    "                 sep='\\t', header=None, names=[\"sentiment\",\"comment\"])\n",
    "\n",
    "df_test = pd.read_csv('http://www.cse.chalmers.se/~richajo/dit866/assignments/a3/data/a3_test_final.tsv',\n",
    "                 sep='\\t', header=None, names=[\"sentiment\",\"comment\"])\n",
    "df_test[\"sentiment\"]= df_test[\"sentiment\"].apply(str)\n",
    "\n",
    "# look at the data\n",
    "df_train.head()\n",
    "df_test.tail()"
   ]
  },
  {
   "cell_type": "code",
   "execution_count": 3,
   "id": "1af5978e",
   "metadata": {},
   "outputs": [],
   "source": [
    "# drop comments where the sentiments don't agree\n",
    "l = [] # list with elements to drop\n",
    "for i in range(len(df_train)):\n",
    "    # get the ith sentiment and split it into a list \n",
    "    sentiment = df_train[\"sentiment\"][i].split('/')\n",
    "    \n",
    "    # check if all the elements are -1\n",
    "    if all(s == '-1' for s in sentiment) == True:\n",
    "        # if all the elements are -1 drop that row\n",
    "        l.append(i)\n",
    "    elif all(s == '0' or s == '-1' for s in sentiment) == True:\n",
    "        # if all the elements are 0 or some of them are -1 we just take 0\n",
    "        df_train[\"sentiment\"][i] = '0'\n",
    "    elif all(s == '1' or s == '-1' for s in sentiment) == True:\n",
    "        # if all the elements are 1 or some of them are -1 we just take 1\n",
    "        df_train[\"sentiment\"][i] = '1'\n",
    "    else:\n",
    "        # if all the elements are not the same drop that row\n",
    "        l.append(i)\n",
    "        \n",
    "df_train_filtered = df_train.drop(l);"
   ]
  },
  {
   "cell_type": "code",
   "execution_count": 4,
   "id": "f512bbfa",
   "metadata": {},
   "outputs": [],
   "source": [
    "# split into train and test datasets\n",
    "Ytrain = df_train_filtered.iloc[:,0]\n",
    "Xtrain = df_train_filtered.iloc[:,1]\n",
    "Ytest = df_test.iloc[:,0]\n",
    "Xtest = df_test.iloc[:,1]"
   ]
  },
  {
   "cell_type": "code",
   "execution_count": 7,
   "id": "54d1cb5e",
   "metadata": {},
   "outputs": [],
   "source": [
    "import re\n",
    "\n",
    "def preprocess_text(text):\n",
    "    text = text.lower() # make lower case\n",
    "    text = re.sub(r'\\d+', '', text) # remove digits\n",
    "    return text\n",
    "\n",
    "vectorizer = TfidfVectorizer(\n",
    "        decode_error='strict',\n",
    "        strip_accents='unicode',\n",
    "        analyzer='word',\n",
    "        min_df = 1,\n",
    "        max_df = 0.8,\n",
    "        ngram_range = (1,2),\n",
    "        sublinear_tf = True,\n",
    "        preprocessor=preprocess_text\n",
    "    )\n",
    "X_train = vectorizer.fit_transform(Xtrain)\n",
    "X_test = vectorizer.transform(Xtest)\n",
    "y_train = Ytrain\n",
    "y_test = Ytest\n",
    "\n",
    "feature_names = vectorizer.get_feature_names()"
   ]
  },
  {
   "cell_type": "markdown",
   "id": "b891e9ba",
   "metadata": {},
   "source": [
    "## Comparison of algorithms"
   ]
  },
  {
   "cell_type": "code",
   "execution_count": 8,
   "id": "8739f4ba",
   "metadata": {},
   "outputs": [],
   "source": [
    "from optparse import OptionParser\n",
    "import sys\n",
    "# to get the train time\n",
    "from time import time\n",
    "\n",
    "# accuracy\n",
    "from sklearn import metrics\n",
    "\n",
    "# a lot of classifiers to test\n",
    "from sklearn.dummy import DummyClassifier\n",
    "from sklearn.linear_model import RidgeClassifier\n",
    "from sklearn.linear_model import SGDClassifier\n",
    "from sklearn.linear_model import Perceptron\n",
    "from sklearn.linear_model import PassiveAggressiveClassifier\n",
    "from sklearn.naive_bayes import BernoulliNB, MultinomialNB\n",
    "from sklearn.neighbors import KNeighborsClassifier\n",
    "from sklearn.neighbors import NearestCentroid\n",
    "from sklearn.ensemble import RandomForestClassifier\n",
    "from sklearn.utils.extmath import density\n",
    "from sklearn.pipeline import Pipeline\n",
    "from sklearn.feature_selection import SelectFromModel\n",
    "\n",
    "# A function where we train and test the datasets with different classification models\n",
    "# and get performance results for each model.\n",
    "def benchmark(clf):\n",
    "    print('_' * 80)\n",
    "    print(\"Training: \")\n",
    "    print(clf)\n",
    "    t0 = time()\n",
    "    clf.fit(X_train, y_train)\n",
    "    train_time = time() - t0\n",
    "    print(\"train time: %0.3fs\" % train_time)\n",
    "\n",
    "    t0 = time()\n",
    "    pred = clf.predict(X_test)\n",
    "    test_time = time() - t0\n",
    "    print(\"test time:  %0.3fs\" % test_time)\n",
    "\n",
    "    score = metrics.accuracy_score(y_test, pred)\n",
    "    print(\"accuracy:   %0.3f\" % score)\n",
    "\n",
    "    if hasattr(clf, 'coef_'):\n",
    "        print(\"dimensionality: %d\" % clf.coef_.shape[1])\n",
    "        print(\"density: %f\" % density(clf.coef_))\n",
    "        print()\n",
    "\n",
    "    if print_report:\n",
    "        print(\"classification report:\")\n",
    "        print(metrics.classification_report(y_test, pred))\n",
    "\n",
    "    if print_cm:\n",
    "        print(\"confusion matrix:\")\n",
    "        print(metrics.confusion_matrix(y_test, pred))\n",
    "\n",
    "    print()\n",
    "    clf_descr = str(clf).split('(')[0]\n",
    "    return clf_descr, score, train_time, test_time"
   ]
  },
  {
   "cell_type": "markdown",
   "id": "3b7020c1",
   "metadata": {},
   "source": [
    "### Train all the classifiers for the comparison"
   ]
  },
  {
   "cell_type": "code",
   "execution_count": 9,
   "id": "37d27c30",
   "metadata": {},
   "outputs": [
    {
     "name": "stdout",
     "output_type": "stream",
     "text": [
      "================================================================================\n",
      "Ridge Classifier\n",
      "________________________________________________________________________________\n",
      "Training: \n",
      "RidgeClassifier(alpha=1.0, class_weight=None, copy_X=True, fit_intercept=True,\n",
      "        max_iter=None, normalize=False, random_state=None, solver='sag',\n",
      "        tol=0.01)\n",
      "train time: 0.280s\n",
      "test time:  0.000s\n",
      "accuracy:   0.900\n",
      "dimensionality: 135105\n",
      "density: 1.000000\n",
      "()\n",
      "()\n",
      "================================================================================\n",
      "Perceptron\n",
      "________________________________________________________________________________\n",
      "Training: \n",
      "Perceptron(alpha=0.0001, class_weight=None, early_stopping=False, eta0=1.0,\n",
      "      fit_intercept=True, max_iter=50, n_iter=None, n_iter_no_change=5,\n",
      "      n_jobs=None, penalty=None, random_state=0, shuffle=True, tol=None,\n",
      "      validation_fraction=0.1, verbose=0, warm_start=False)\n",
      "train time: 0.190s\n",
      "test time:  0.000s\n",
      "accuracy:   0.888\n",
      "dimensionality: 135105\n",
      "density: 0.481248\n",
      "()\n",
      "()\n",
      "================================================================================\n",
      "Passive-Aggressive\n",
      "________________________________________________________________________________\n",
      "Training: \n",
      "PassiveAggressiveClassifier(C=1.0, average=False, class_weight=None,\n",
      "              early_stopping=False, fit_intercept=True, loss='hinge',\n",
      "              max_iter=50, n_iter=None, n_iter_no_change=5, n_jobs=None,\n",
      "              random_state=None, shuffle=True, tol=None,\n",
      "              validation_fraction=0.1, verbose=0, warm_start=False)\n"
     ]
    },
    {
     "name": "stderr",
     "output_type": "stream",
     "text": [
      "/home/kovac/.local/lib/python2.7/site-packages/sklearn/linear_model/stochastic_gradient.py:183: FutureWarning: max_iter and tol parameters have been added in Perceptron in 0.19. If max_iter is set but tol is left unset, the default value for tol in 0.19 and 0.20 will be None (which is equivalent to -infinity, so it has no effect) but will change in 0.21 to 1e-3. Specify tol to silence this warning.\n",
      "  FutureWarning)\n",
      "/home/kovac/.local/lib/python2.7/site-packages/sklearn/linear_model/stochastic_gradient.py:183: FutureWarning: max_iter and tol parameters have been added in PassiveAggressiveClassifier in 0.19. If max_iter is set but tol is left unset, the default value for tol in 0.19 and 0.20 will be None (which is equivalent to -infinity, so it has no effect) but will change in 0.21 to 1e-3. Specify tol to silence this warning.\n",
      "  FutureWarning)\n"
     ]
    },
    {
     "name": "stdout",
     "output_type": "stream",
     "text": [
      "train time: 0.242s\n",
      "test time:  0.000s\n",
      "accuracy:   0.897\n",
      "dimensionality: 135105\n",
      "density: 0.852056\n",
      "()\n",
      "()\n",
      "================================================================================\n",
      "kNN\n",
      "________________________________________________________________________________\n",
      "Training: \n",
      "KNeighborsClassifier(algorithm='auto', leaf_size=30, metric='minkowski',\n",
      "           metric_params=None, n_jobs=None, n_neighbors=10, p=2,\n",
      "           weights='uniform')\n",
      "train time: 0.015s\n",
      "test time:  0.514s\n",
      "accuracy:   0.872\n",
      "()\n",
      "================================================================================\n",
      "Random forest\n",
      "________________________________________________________________________________\n",
      "Training: \n",
      "RandomForestClassifier(bootstrap=True, class_weight=None, criterion='gini',\n",
      "            max_depth=None, max_features='auto', max_leaf_nodes=None,\n",
      "            min_impurity_decrease=0.0, min_impurity_split=None,\n",
      "            min_samples_leaf=1, min_samples_split=2,\n",
      "            min_weight_fraction_leaf=0.0, n_estimators='warn', n_jobs=None,\n",
      "            oob_score=False, random_state=None, verbose=0,\n",
      "            warm_start=False)\n"
     ]
    },
    {
     "name": "stderr",
     "output_type": "stream",
     "text": [
      "/home/kovac/.local/lib/python2.7/site-packages/sklearn/ensemble/forest.py:246: FutureWarning: The default value of n_estimators will change from 10 in version 0.20 to 100 in 0.22.\n",
      "  \"10 in version 0.20 to 100 in 0.22.\", FutureWarning)\n"
     ]
    },
    {
     "name": "stdout",
     "output_type": "stream",
     "text": [
      "train time: 4.595s\n",
      "test time:  0.007s\n",
      "accuracy:   0.824\n",
      "()\n",
      "================================================================================\n",
      "L2 penalty\n",
      "________________________________________________________________________________\n",
      "Training: \n",
      "LinearSVC(C=1.0, class_weight=None, dual=False, fit_intercept=True,\n",
      "     intercept_scaling=1, loss='squared_hinge', max_iter=1000,\n",
      "     multi_class='ovr', penalty='l2', random_state=None, tol=0.001,\n",
      "     verbose=0)\n",
      "train time: 0.391s\n",
      "test time:  0.000s\n",
      "accuracy:   0.900\n",
      "dimensionality: 135105\n",
      "density: 1.000000\n",
      "()\n",
      "()\n",
      "________________________________________________________________________________\n",
      "Training: \n",
      "SGDClassifier(alpha=0.0001, average=False, class_weight=None,\n",
      "       early_stopping=False, epsilon=0.1, eta0=0.0, fit_intercept=True,\n",
      "       l1_ratio=0.15, learning_rate='optimal', loss='hinge', max_iter=50,\n",
      "       n_iter=None, n_iter_no_change=5, n_jobs=None, penalty='l2',\n",
      "       power_t=0.5, random_state=None, shuffle=True, tol=None,\n",
      "       validation_fraction=0.1, verbose=0, warm_start=False)\n"
     ]
    },
    {
     "name": "stderr",
     "output_type": "stream",
     "text": [
      "/home/kovac/.local/lib/python2.7/site-packages/sklearn/linear_model/stochastic_gradient.py:183: FutureWarning: max_iter and tol parameters have been added in SGDClassifier in 0.19. If max_iter is set but tol is left unset, the default value for tol in 0.19 and 0.20 will be None (which is equivalent to -infinity, so it has no effect) but will change in 0.21 to 1e-3. Specify tol to silence this warning.\n",
      "  FutureWarning)\n"
     ]
    },
    {
     "name": "stdout",
     "output_type": "stream",
     "text": [
      "train time: 0.206s\n",
      "test time:  0.000s\n",
      "accuracy:   0.902\n",
      "dimensionality: 135105\n",
      "density: 0.836668\n",
      "()\n",
      "()\n",
      "================================================================================\n",
      "L1 penalty\n",
      "________________________________________________________________________________\n",
      "Training: \n",
      "LinearSVC(C=1.0, class_weight=None, dual=False, fit_intercept=True,\n",
      "     intercept_scaling=1, loss='squared_hinge', max_iter=1000,\n",
      "     multi_class='ovr', penalty='l1', random_state=None, tol=0.001,\n",
      "     verbose=0)\n",
      "train time: 0.431s\n",
      "test time:  0.001s\n",
      "accuracy:   0.883\n",
      "dimensionality: 135105\n",
      "density: 0.022627\n",
      "()\n",
      "()\n",
      "________________________________________________________________________________\n",
      "Training: \n",
      "SGDClassifier(alpha=0.0001, average=False, class_weight=None,\n",
      "       early_stopping=False, epsilon=0.1, eta0=0.0, fit_intercept=True,\n",
      "       l1_ratio=0.15, learning_rate='optimal', loss='hinge', max_iter=50,\n",
      "       n_iter=None, n_iter_no_change=5, n_jobs=None, penalty='l1',\n",
      "       power_t=0.5, random_state=None, shuffle=True, tol=None,\n",
      "       validation_fraction=0.1, verbose=0, warm_start=False)\n",
      "train time: 0.431s\n",
      "test time:  0.000s\n",
      "accuracy:   0.862\n",
      "dimensionality: 135105\n",
      "density: 0.005899\n",
      "()\n",
      "()\n",
      "________________________________________________________________________________\n",
      "Training: \n",
      "SGDClassifier(alpha=0.0001, average=False, class_weight=None,\n",
      "       early_stopping=False, epsilon=0.1, eta0=0.0, fit_intercept=True,\n",
      "       l1_ratio=0.15, learning_rate='optimal', loss='hinge', max_iter=50,\n",
      "       n_iter=None, n_iter_no_change=5, n_jobs=None, penalty='elasticnet',\n",
      "       power_t=0.5, random_state=None, shuffle=True, tol=None,\n",
      "       validation_fraction=0.1, verbose=0, warm_start=False)\n",
      "train time: 0.691s\n",
      "test time:  0.001s\n",
      "accuracy:   0.893\n",
      "dimensionality: 135105\n",
      "density: 0.141705\n",
      "()\n",
      "()\n",
      "================================================================================\n",
      "Naive Bayes\n",
      "________________________________________________________________________________\n",
      "Training: \n",
      "BernoulliNB(alpha=0.01, binarize=0.0, class_prior=None, fit_prior=True)\n",
      "train time: 0.061s\n",
      "test time:  0.013s\n",
      "accuracy:   0.866\n",
      "dimensionality: 135105\n",
      "density: 1.000000\n",
      "()\n",
      "()\n",
      "================================================================================\n",
      "Dummy classifier\n",
      "________________________________________________________________________________\n",
      "Training: \n",
      "DummyClassifier(constant=None, random_state=None, strategy='stratified')\n",
      "train time: 0.008s\n",
      "test time:  0.000s\n",
      "accuracy:   0.532\n",
      "()\n",
      "================================================================================\n",
      "LinearSVC with L1-based feature selection\n",
      "________________________________________________________________________________\n",
      "Training: \n",
      "Pipeline(memory=None,\n",
      "     steps=[('feature_selection', SelectFromModel(estimator=LinearSVC(C=1.0, class_weight=None, dual=False, fit_intercept=True,\n",
      "     intercept_scaling=1, loss='squared_hinge', max_iter=1000,\n",
      "     multi_class='ovr', penalty='l1', random_state=None, tol=0.001,\n",
      "     verbose=0),\n",
      "        max_features=None, no...ax_iter=1000,\n",
      "     multi_class='ovr', penalty='l2', random_state=None, tol=0.0001,\n",
      "     verbose=0))])\n",
      "train time: 0.547s\n",
      "test time:  0.003s\n",
      "accuracy:   0.890\n",
      "()\n"
     ]
    }
   ],
   "source": [
    "results = []\n",
    "# if we want to print some extra things\n",
    "print_cm = 0 # print confusion matrix\n",
    "print_report = 0 # print classification report\n",
    "for clf, name in (\n",
    "        (RidgeClassifier(tol=1e-2, solver=\"sag\"), \"Ridge Classifier\"),\n",
    "        (Perceptron(max_iter=50), \"Perceptron\"),\n",
    "        (PassiveAggressiveClassifier(max_iter=50),\n",
    "         \"Passive-Aggressive\"),\n",
    "        (KNeighborsClassifier(n_neighbors=10), \"kNN\"),\n",
    "        (RandomForestClassifier(), \"Random forest\")):\n",
    "    print('=' * 80)\n",
    "    print(name)\n",
    "    results.append(benchmark(clf))\n",
    "\n",
    "for penalty in [\"l2\", \"l1\"]:\n",
    "    print('=' * 80)\n",
    "    print(\"%s penalty\" % penalty.upper())\n",
    "    # Train Liblinear model\n",
    "    clf_descr, score, train_time, test_time = benchmark(LinearSVC(penalty=penalty,dual=False,\n",
    "                                       tol=1e-3))\n",
    "    clf_descr = clf_descr + ' ' +penalty.upper()\n",
    "    results.append([clf_descr, score, train_time, test_time])\n",
    "\n",
    "    # Train SGD model\n",
    "    clf_descr, score, train_time, test_time = benchmark(SGDClassifier(alpha=.0001, max_iter=50,\n",
    "                                           penalty=penalty))\n",
    "    clf_descr = clf_descr + ' ' +penalty.upper()\n",
    "    results.append([clf_descr, score, train_time, test_time])    \n",
    "    \n",
    "clf_descr, score, train_time, test_time = benchmark(SGDClassifier(alpha=.0001, max_iter=50,\n",
    "                                           penalty='elasticnet'))\n",
    "clf_descr = clf_descr + ' ' + 'elasticnet'\n",
    "results.append([clf_descr, score, train_time, test_time])\n",
    "# Train sparse Naive Bayes classifiers\n",
    "print('=' * 80)\n",
    "print(\"Naive Bayes\")\n",
    "#results.append(benchmark(MultinomialNB(alpha=.01)))\n",
    "results.append(benchmark(BernoulliNB(alpha=.01)))\n",
    "\n",
    "# Train sparse Dummy classifier\n",
    "print('=' * 80)\n",
    "print(\"Dummy classifier\")\n",
    "results.append(benchmark(DummyClassifier()))\n",
    "\n",
    "print('=' * 80)\n",
    "print(\"LinearSVC with L1-based feature selection\")\n",
    "# The smaller C, the stronger the regularization.\n",
    "# The more regularization, the more sparsity.\n",
    "results.append(benchmark(Pipeline([\n",
    "  ('feature_selection', SelectFromModel(LinearSVC(penalty=\"l1\", dual=False,\n",
    "                                                  tol=1e-3))),\n",
    "  ('classification', LinearSVC(penalty=\"l2\"))])))"
   ]
  },
  {
   "cell_type": "markdown",
   "id": "0989f0f7",
   "metadata": {},
   "source": [
    "### Plot comparison of classification algorithms\n",
    "\n",
    "The bar plot indicates the accuracy and training time (normalized) for each classifier."
   ]
  },
  {
   "cell_type": "code",
   "execution_count": 10,
   "id": "4b207255",
   "metadata": {},
   "outputs": [
    {
     "name": "stdout",
     "output_type": "stream",
     "text": [
      "('Best accuracy was given by ', 'SGDClassifier L2', ' = ', 0.9024943310657596)\n"
     ]
    },
    {
     "data": {
      "image/png": "[encoded data removed]",
      "text/plain": [
       "<Figure size 864x576 with 1 Axes>"
      ]
     },
     "metadata": {
      "needs_background": "light"
     },
     "output_type": "display_data"
    }
   ],
   "source": [
    "indices = np.arange(len(results))\n",
    "\n",
    "results2 = [[x[i] for x in results] for i in range(4)]\n",
    "\n",
    "clf_names, score, training_time, test_time = results2\n",
    "training_time = np.array(training_time) / np.max(training_time)\n",
    "test_time = np.array(test_time) / np.max(test_time)\n",
    "\n",
    "plt.figure(figsize=(12, 8))\n",
    "plt.title(\"Test set accuracy\")\n",
    "plt.barh(indices, score, .2, label=\"Test set accuracy\", color='darkorange')\n",
    "plt.barh(indices + .3, training_time, .2, label=\"training time\",\n",
    "         color='c')\n",
    "#plt.barh(indices + .6, test_time, .2, label=\"test time\", color='darkorange')\n",
    "plt.yticks(())\n",
    "plt.legend(loc='best')\n",
    "plt.subplots_adjust(left=.25)\n",
    "plt.subplots_adjust(top=.95)\n",
    "plt.subplots_adjust(bottom=.05)\n",
    "plt.plot([max(score),max(score)],[0,len(score)],\"--\")\n",
    "plt.text(max(score)-0.05,len(score)+0.2,\"best score\")\n",
    "score_str = [str(round(x,3)) for x in score]\n",
    "for i in range(len(score)):\n",
    "    plt.text(max(score)+0.01,i-0.1,score_str[i])\n",
    "\n",
    "    \n",
    "\n",
    "print(\"Best accuracy was given by \", clf_names[np.argmax(score)],' = ',max(score))\n",
    "\n",
    "for i, c in zip(indices, clf_names):\n",
    "    plt.text(-.33, i, c,fontsize = 'large')\n",
    "\n",
    "plt.show()"
   ]
  },
  {
   "cell_type": "markdown",
   "id": "67e1ae5e",
   "metadata": {},
   "source": [
    "## SGDClassifier anlysis\n",
    "### Plot the feature importance graph\n",
    "\n",
    "plots top n features for both the positive and the negative class for the best preforming algorithm"
   ]
  },
  {
   "cell_type": "code",
   "execution_count": 11,
   "id": "952232c5",
   "metadata": {},
   "outputs": [
    {
     "data": {
      "image/png": "[encoded data removed]",
      "text/plain": [
       "<Figure size 1080x360 with 1 Axes>"
      ]
     },
     "metadata": {
      "needs_background": "light"
     },
     "output_type": "display_data"
    },
    {
     "data": {
      "text/plain": [
       "<Figure size 432x288 with 0 Axes>"
      ]
     },
     "metadata": {},
     "output_type": "display_data"
    }
   ],
   "source": [
    "from sklearn.feature_extraction.text import CountVectorizer\n",
    "\n",
    "def plot_coefficients(classifier, feature_names, top_features=20):\n",
    "    coef = classifier.coef_.ravel()\n",
    "    top_positive_coefficients = np.argsort(coef)[-top_features:]\n",
    "    top_negative_coefficients = np.argsort(coef)[:top_features]\n",
    "    top_coefficients = np.hstack([top_negative_coefficients, top_positive_coefficients])\n",
    "    # create plot\n",
    "    plt.figure(figsize=(15, 5))\n",
    "    colors = [\"darkorange\" if c < 0 else \"c\" for c in coef[top_coefficients]]\n",
    "    plt.bar(np.arange(2 * top_features), coef[top_coefficients], color=colors)\n",
    "    feature_names = np.array(feature_names)\n",
    "    plt.xticks(np.arange(0, 2 * top_features), feature_names[top_coefficients], rotation=60, fontsize = 'large')\n",
    "    plt.show()\n",
    "    plt.savefig(\"features.png\")\n",
    "\n",
    "clf = SGDClassifier(alpha=.0001, max_iter=50,penalty='l2')\n",
    "clf.fit(X_train, y_train)\n",
    "plot_coefficients(clf, vectorizer.get_feature_names(),8)"
   ]
  },
  {
   "cell_type": "markdown",
   "id": "a657e142",
   "metadata": {},
   "source": [
    "### Plot the Confusion Matrix"
   ]
  },
  {
   "cell_type": "code",
   "execution_count": 14,
   "id": "db98d35d",
   "metadata": {},
   "outputs": [],
   "source": [
    "from sklearn.metrics import confusion_matrix\n",
    "\n",
    "def plot_confusion_matrix(y_true, y_pred, classes,\n",
    "                          normalize=False,\n",
    "                          title=None,\n",
    "                          cmap=plt.cm.Blues):\n",
    "    \"\"\"\n",
    "    This function prints and plots the confusion matrix.\n",
    "    Normalization can be applied by setting `normalize=True`.\n",
    "    \"\"\"\n",
    "    if not title:\n",
    "        if normalize:\n",
    "            title = 'Normalized confusion matrix'\n",
    "        else:\n",
    "            title = 'Confusion matrix, without normalization'\n",
    "\n",
    "    # Compute confusion matrix\n",
    "    cm = confusion_matrix(y_true, y_pred)\n",
    "    if normalize:\n",
    "        cm = cm.astype('float') / cm.sum(axis=1)[:, np.newaxis]\n",
    "        print(\"Normalized confusion matrix\")\n",
    "    else:\n",
    "        print('Confusion matrix, without normalization')\n",
    "\n",
    "    print(cm)\n",
    "\n",
    "    fig, ax = plt.subplots()\n",
    "    im = ax.imshow(cm, interpolation='nearest', cmap=cmap)\n",
    "    # We want to show all ticks...\n",
    "    ax.set(xticks=np.arange(cm.shape[1]),\n",
    "           yticks=np.arange(cm.shape[0]),\n",
    "           # ... and label them with the respective list entries\n",
    "           xticklabels=classes, yticklabels=classes,\n",
    "           title=title,\n",
    "           ylabel='True label',\n",
    "           xlabel='Predicted label')\n",
    "\n",
    "    # Rotate the tick labels and set their alignment.\n",
    "    plt.setp(ax.get_xticklabels(),\n",
    "             rotation_mode=\"anchor\")\n",
    "\n",
    "    # Loop over data dimensions and create text annotations.\n",
    "    fmt = '.2f' if normalize else 'd'\n",
    "    thresh = cm.max() / 2.\n",
    "    for i in range(cm.shape[0]):\n",
    "        for j in range(cm.shape[1]):\n",
    "            ax.text(j, i, format(cm[i, j], fmt),\n",
    "                    ha=\"center\", va=\"center\",\n",
    "                    color=\"white\" if cm[i, j] > thresh else \"black\")\n",
    "    fig.tight_layout()\n",
    "    return ax"
   ]
  },
  {
   "cell_type": "code",
   "execution_count": 15,
   "id": "f6ffb687",
   "metadata": {},
   "outputs": [
    {
     "name": "stdout",
     "output_type": "stream",
     "text": [
      "0.9024943310657596\n",
      "Confusion matrix, without normalization\n",
      "[[401  40]\n",
      " [ 46 395]]\n"
     ]
    },
    {
     "data": {
      "text/plain": [
       "<matplotlib.axes._subplots.AxesSubplot at 0x7f1cb05a3950>"
      ]
     },
     "execution_count": 15,
     "metadata": {},
     "output_type": "execute_result"
    },
    {
     "data": {
      "image/png": "[encoded data removed]",
      "text/plain": [
       "<Figure size 432x288 with 1 Axes>"
      ]
     },
     "metadata": {
      "needs_background": "light"
     },
     "output_type": "display_data"
    }
   ],
   "source": [
    "from sklearn.metrics import confusion_matrix\n",
    "\n",
    "confusion_matrix(y_test,clf.predict(X_test)) \n",
    "print(metrics.accuracy_score(y_test, clf.predict(X_test)))\n",
    "plot_confusion_matrix(y_test, clf.predict(X_test),[1,0])"
   ]
  },
  {
   "cell_type": "markdown",
   "id": "1b63aa68",
   "metadata": {},
   "source": [
    "### Print some wrong prediction for anlysis"
   ]
  },
  {
   "cell_type": "code",
   "execution_count": 19,
   "id": "0da6dd4f",
   "metadata": {},
   "outputs": [
    {
     "data": {
      "text/plain": [
       "('0',\n",
       " 'I just automatically assume people who get the vaccine barely have the IQ to push a broom.')"
      ]
     },
     "execution_count": 19,
     "metadata": {},
     "output_type": "execute_result"
    }
   ],
   "source": [
    "Yguess = clf.predict(X_test)\n",
    "a = (Yguess == y_test)\n",
    "# wrong predictions\n",
    "wp = [i for i, x in enumerate(a) if not x]\n",
    "Ytest[wp[21]],Xtest[wp[21]]"
   ]
  }
 ],
 "metadata": {
  "kernelspec": {
   "display_name": "python3",
   "language": "python",
   "name": "python3"
  },
  "language_info": {
   "codemirror_mode": {
    "name": "ipython",
    "version": 2
   },
   "file_extension": ".py",
   "mimetype": "text/x-python",
   "name": "python",
   "nbconvert_exporter": "python",
   "pygments_lexer": "ipython2",
   "version": "2.7.17"
  }
 },
 "nbformat": 4,
 "nbformat_minor": 5
}
