{
 "cells": [
  {
   "cell_type": "markdown",
   "id": "d2d3ac21",
   "metadata": {},
   "source": [
    "# [Programming assignment 3: Stance detection](http://www.cse.chalmers.se/~richajo/dit866/assignments/a3/assignment3.html)"
   ]
  },
  {
   "cell_type": "code",
   "execution_count": 174,
   "id": "ec39a175",
   "metadata": {},
   "outputs": [],
   "source": [
    "# for handeling data\n",
    "import pandas as pd\n",
    "\n",
    "# for mathematical manipulation\n",
    "import numpy as np\n",
    "\n",
    "# the actual classification algorithm\n",
    "from sklearn.svm import LinearSVC\n",
    "\n",
    "# for converting training and test datasets into matrices\n",
    "# TfidfVectorizer does this specifically for documents\n",
    "from sklearn.feature_extraction.text import TfidfVectorizer\n",
    "\n",
    "# for bundling the vectorizer and the classifier as a single \"package\"\n",
    "from sklearn.pipeline import make_pipeline\n",
    "\n",
    "# for splitting the dataset into training and test sets \n",
    "from sklearn.model_selection import train_test_split\n",
    "\n",
    "# for evaluating the quality of the classifier\n",
    "from sklearn.metrics import accuracy_score"
   ]
  },
  {
   "cell_type": "code",
   "execution_count": 215,
   "id": "sufficient-export",
   "metadata": {},
   "outputs": [
    {
     "data": {
      "text/html": [
       "<div>\n",
       "<style scoped>\n",
       "    .dataframe tbody tr th:only-of-type {\n",
       "        vertical-align: middle;\n",
       "    }\n",
       "\n",
       "    .dataframe tbody tr th {\n",
       "        vertical-align: top;\n",
       "    }\n",
       "\n",
       "    .dataframe thead th {\n",
       "        text-align: right;\n",
       "    }\n",
       "</style>\n",
       "<table border=\"1\" class=\"dataframe\">\n",
       "  <thead>\n",
       "    <tr style=\"text-align: right;\">\n",
       "      <th></th>\n",
       "      <th>sentiment</th>\n",
       "      <th>comment</th>\n",
       "    </tr>\n",
       "  </thead>\n",
       "  <tbody>\n",
       "    <tr>\n",
       "      <th>0</th>\n",
       "      <td>0/-1</td>\n",
       "      <td>It is easier to fool a million people than it...</td>\n",
       "    </tr>\n",
       "    <tr>\n",
       "      <th>1</th>\n",
       "      <td>0/0</td>\n",
       "      <td>NATURAL IMMUNITY  protected us since evolutio...</td>\n",
       "    </tr>\n",
       "    <tr>\n",
       "      <th>2</th>\n",
       "      <td>0/-1</td>\n",
       "      <td>NATURAL IMMUNITY  protected us since evolutio...</td>\n",
       "    </tr>\n",
       "    <tr>\n",
       "      <th>3</th>\n",
       "      <td>1/1/1/-1</td>\n",
       "      <td>The bigest sideffect of vaccines is fewer dea...</td>\n",
       "    </tr>\n",
       "    <tr>\n",
       "      <th>4</th>\n",
       "      <td>1/1</td>\n",
       "      <td>Vaccine takes more than a year to develop.  T...</td>\n",
       "    </tr>\n",
       "  </tbody>\n",
       "</table>\n",
       "</div>"
      ],
      "text/plain": [
       "  sentiment                                            comment\n",
       "0      0/-1   It is easier to fool a million people than it...\n",
       "1       0/0   NATURAL IMMUNITY  protected us since evolutio...\n",
       "2      0/-1   NATURAL IMMUNITY  protected us since evolutio...\n",
       "3  1/1/1/-1   The bigest sideffect of vaccines is fewer dea...\n",
       "4       1/1   Vaccine takes more than a year to develop.  T..."
      ]
     },
     "execution_count": 215,
     "metadata": {},
     "output_type": "execute_result"
    }
   ],
   "source": [
    "# import the trtaining data\n",
    "df_train = pd.read_csv('http://www.cse.chalmers.se/~richajo/dit866/assignments/a3/data/a3_train_final.tsv',\n",
    "                 sep='\\t', header=None, names=[\"sentiment\",\"comment\"])\n",
    "\n",
    "df_test = pd.read_csv('http://www.cse.chalmers.se/~richajo/dit866/assignments/a3/data/a3_test_final.tsv',\n",
    "                 sep='\\t', header=None, names=[\"sentiment\",\"comment\"])\n",
    "df_test[\"sentiment\"]= df_test[\"sentiment\"].apply(str)\n",
    "\n",
    "# look at the data\n",
    "df_train.head()"
   ]
  },
  {
   "cell_type": "markdown",
   "id": "vietnamese-verification",
   "metadata": {},
   "source": [
    "We only like to keep the comments where all the sentiments agree, therefore we remove all the comments where all the sentiments don't agree."
   ]
  },
  {
   "cell_type": "code",
   "execution_count": 216,
   "id": "fuzzy-network",
   "metadata": {},
   "outputs": [],
   "source": [
    "# drop comments where the sentiments don't agree\n",
    "l = [] # list with elements to drop\n",
    "for i in range(len(df_train)):\n",
    "    # get the ith sentiment and split it into a list \n",
    "    sentiment = df[\"sentiment\"][i].split('/')\n",
    "    \n",
    "    # check if the all the elements are the same\n",
    "    if all(s == sentiment[0] for s in sentiment) == False:\n",
    "        # if all the elements are not the same we drop that row\n",
    "        l.append(i)\n",
    "    else:\n",
    "        # if all the elements are the same we just pick one of them\n",
    "        df_train[\"sentiment\"][i] = sentiment[0]\n",
    "df_train = df_train.drop(l);"
   ]
  },
  {
   "cell_type": "code",
   "execution_count": 217,
   "id": "psychological-worthy",
   "metadata": {},
   "outputs": [],
   "source": [
    "# split into train and test datasets\n",
    "Ytrain = df_train.iloc[:,0]\n",
    "Xtrain = df_train.iloc[:,1]\n",
    "Ytest = df_test.iloc[:,0]\n",
    "Xtest = df_test.iloc[:,1]"
   ]
  },
  {
   "cell_type": "code",
   "execution_count": 201,
   "id": "d9855be7",
   "metadata": {},
   "outputs": [
    {
     "name": "stdout",
     "output_type": "stream",
     "text": [
      "Accuracy = 0.9992338232221216\n"
     ]
    }
   ],
   "source": [
    "import re\n",
    "\n",
    "def preprocess_text(text):\n",
    "    text = text.lower() # make lower case\n",
    "    text = re.sub(r'\\d+', '', text) # remove digits\n",
    "    return text\n",
    "\n",
    "pipeline = make_pipeline( \n",
    "    TfidfVectorizer(\n",
    "        decode_error='strict',\n",
    "        strip_accents='unicode',\n",
    "        analyzer='word',\n",
    "        min_df = 1,\n",
    "        max_df = 0.8,\n",
    "        ngram_range = (1,2),\n",
    "        sublinear_tf = True,\n",
    "        preprocessor=preprocess_text\n",
    "    ), \n",
    "    LinearSVC(\n",
    "        penalty='l2', \n",
    "        loss='squared_hinge', \n",
    "        max_iter=3000) \n",
    ")\n",
    "pipeline.fit(Xtrain, Ytrain)\n",
    "\n",
    "# corona vaccine comment classifier\n",
    "acc = accuracy_score(Ytrain, pipeline.predict(Xtrain))\n",
    "print(\"Accuracy =\",acc)"
   ]
  },
  {
   "cell_type": "code",
   "execution_count": 181,
   "id": "1d684b8c",
   "metadata": {
    "scrolled": false
   },
   "outputs": [],
   "source": [
    "#print(pipeline[0].get_feature_names())"
   ]
  },
  {
   "cell_type": "code",
   "execution_count": 202,
   "id": "cec1ec94",
   "metadata": {},
   "outputs": [
    {
     "name": "stdout",
     "output_type": "stream",
     "text": [
      "Accuracy = 0.9553527895799958\n"
     ]
    }
   ],
   "source": [
    "pipeline_vanilla = make_pipeline( \n",
    "    TfidfVectorizer(), \n",
    "    LinearSVC() \n",
    ")\n",
    "pipeline_vanilla.fit(Xtrain, Ytrain)\n",
    "\n",
    "# corona vaccine comment classifier\n",
    "acc = accuracy_score(Ytrain, pipeline_vanilla.predict(Xtrain))\n",
    "print(\"Accuracy =\",acc)"
   ]
  },
  {
   "cell_type": "code",
   "execution_count": 219,
   "id": "65d91753",
   "metadata": {},
   "outputs": [
    {
     "data": {
      "text/plain": [
       "<sklearn.metrics._plot.confusion_matrix.ConfusionMatrixDisplay at 0x295070f7fc8>"
      ]
     },
     "execution_count": 219,
     "metadata": {},
     "output_type": "execute_result"
    },
    {
     "data": {
      "image/png": "[encoded data removed]",
      "text/plain": [
       "<Figure size 432x288 with 2 Axes>"
      ]
     },
     "metadata": {
      "needs_background": "light"
     },
     "output_type": "display_data"
    }
   ],
   "source": [
    "from sklearn.metrics import confusion_matrix, plot_confusion_matrix\n",
    "\n",
    "plot_confusion_matrix(pipeline, Xtest, Ytest) "
   ]
  },
  {
   "cell_type": "markdown",
   "id": "c5225124",
   "metadata": {},
   "source": [
    "## Preliminary Sample"
   ]
  },
  {
   "cell_type": "code",
   "execution_count": 3,
   "id": "31c6af76",
   "metadata": {},
   "outputs": [
    {
     "data": {
      "text/html": [
       "<div>\n",
       "<style scoped>\n",
       "    .dataframe tbody tr th:only-of-type {\n",
       "        vertical-align: middle;\n",
       "    }\n",
       "\n",
       "    .dataframe tbody tr th {\n",
       "        vertical-align: top;\n",
       "    }\n",
       "\n",
       "    .dataframe thead th {\n",
       "        text-align: right;\n",
       "    }\n",
       "</style>\n",
       "<table border=\"1\" class=\"dataframe\">\n",
       "  <thead>\n",
       "    <tr style=\"text-align: right;\">\n",
       "      <th></th>\n",
       "      <th>sentiment</th>\n",
       "      <th>comment</th>\n",
       "    </tr>\n",
       "  </thead>\n",
       "  <tbody>\n",
       "    <tr>\n",
       "      <th>970</th>\n",
       "      <td>0</td>\n",
       "      <td>Thank you for  the video,  however  instead of...</td>\n",
       "    </tr>\n",
       "    <tr>\n",
       "      <th>971</th>\n",
       "      <td>0</td>\n",
       "      <td>Over my dead body will I get the vaccine or tr...</td>\n",
       "    </tr>\n",
       "    <tr>\n",
       "      <th>972</th>\n",
       "      <td>0</td>\n",
       "      <td>By CDC's own numbers recovery rates are higher...</td>\n",
       "    </tr>\n",
       "    <tr>\n",
       "      <th>973</th>\n",
       "      <td>1</td>\n",
       "      <td>Alrhough I don't understand everything, at lea...</td>\n",
       "    </tr>\n",
       "    <tr>\n",
       "      <th>974</th>\n",
       "      <td>0</td>\n",
       "      <td>WHAT ABOUT THE ONE'S DYING AT THEIR FIRST INJE...</td>\n",
       "    </tr>\n",
       "  </tbody>\n",
       "</table>\n",
       "</div>"
      ],
      "text/plain": [
       "     sentiment                                            comment\n",
       "970          0  Thank you for  the video,  however  instead of...\n",
       "971          0  Over my dead body will I get the vaccine or tr...\n",
       "972          0  By CDC's own numbers recovery rates are higher...\n",
       "973          1  Alrhough I don't understand everything, at lea...\n",
       "974          0  WHAT ABOUT THE ONE'S DYING AT THEIR FIRST INJE..."
      ]
     },
     "execution_count": 3,
     "metadata": {},
     "output_type": "execute_result"
    }
   ],
   "source": [
    "# import the data\n",
    "df = pd.read_csv('http://www.cse.chalmers.se/~richajo/dit866/data/a3_first_sample.tsv',\n",
    "                 sep='\\t', header=None, names=[\"sentiment\",\"comment\"])\n",
    "\n",
    "# look at the data\n",
    "df.tail()"
   ]
  },
  {
   "cell_type": "markdown",
   "id": "modular-entrepreneur",
   "metadata": {},
   "source": [
    "We split the data into training and test sets. We use 20% of the data for testing. The `random_state` argument here is for reproducibility, to make sure we get the same train/test split each time we run the notebook, since `train_test_split` does the split randomly."
   ]
  },
  {
   "cell_type": "code",
   "execution_count": 4,
   "id": "3dcf53e6",
   "metadata": {},
   "outputs": [],
   "source": [
    "# split into train and test datasets\n",
    "Ydata = df.iloc[:,0]\n",
    "Xdata = df.iloc[:,1]\n",
    "Xtrain, Xtest, Ytrain, Ytest = train_test_split(Xdata, Ydata, test_size=0.2, random_state=12345)"
   ]
  },
  {
   "cell_type": "markdown",
   "id": "0a7480fe",
   "metadata": {},
   "source": [
    "We create our pipeline"
   ]
  },
  {
   "cell_type": "code",
   "execution_count": 133,
   "id": "virtual-facility",
   "metadata": {},
   "outputs": [
    {
     "name": "stdout",
     "output_type": "stream",
     "text": [
      "Accuracy = 1.0\n"
     ]
    }
   ],
   "source": [
    "import re\n",
    "\n",
    "def preprocess_text(text):\n",
    "    text = text.lower() # make lower case\n",
    "    text = re.sub(r'\\d+', '', text) # remove digits\n",
    "    return text\n",
    "\n",
    "\n",
    "pipeline = make_pipeline( \n",
    "    TfidfVectorizer(\n",
    "        decode_error='strict', \n",
    "        strip_accents='unicode',\n",
    "        analyzer='word',\n",
    "        min_df = 1,\n",
    "        max_df = 0.8,\n",
    "        ngram_range = (1,2),\n",
    "        sublinear_tf = True,\n",
    "        preprocessor=preprocess_text\n",
    "    ), \n",
    "    LinearSVC(\n",
    "        penalty='l2', \n",
    "        loss='squared_hinge', \n",
    "        max_iter=3000) \n",
    ")\n",
    "pipeline.fit(Xtrain, Ytrain)\n",
    "\n",
    "# corona vaccine comment classifier\n",
    "acc = accuracy_score(Ytrain, pipeline.predict(Xtrain))\n",
    "print(\"Accuracy =\",acc)"
   ]
  },
  {
   "cell_type": "code",
   "execution_count": 134,
   "id": "6ce82e5d",
   "metadata": {},
   "outputs": [
    {
     "name": "stdout",
     "output_type": "stream",
     "text": [
      "Accuracy = 0.7333333333333333\n"
     ]
    }
   ],
   "source": [
    "acc = accuracy_score(Ytest, pipeline.predict(Xtest))\n",
    "print(\"Accuracy =\",acc)"
   ]
  },
  {
   "cell_type": "code",
   "execution_count": 115,
   "id": "8b842ced",
   "metadata": {},
   "outputs": [],
   "source": [
    "def vaccine_comment_classifier(X, Y):\n",
    "    pipeline = make_pipeline( \n",
    "        TfidfVectorizer(), \n",
    "        LinearSVC() \n",
    "    )\n",
    "    pipeline.fit(X, Y)\n",
    "    return pipeline"
   ]
  },
  {
   "cell_type": "code",
   "execution_count": 116,
   "id": "filled-registrar",
   "metadata": {},
   "outputs": [
    {
     "name": "stdout",
     "output_type": "stream",
     "text": [
      "Accuracy = 0.9974358974358974\n"
     ]
    }
   ],
   "source": [
    "clf = vaccine_comment_classifier(Xtrain, Ytrain)\n",
    "# corona vaccine comment classifier\n",
    "acc = accuracy_score(Ytrain, clf.predict(Xtrain))\n",
    "print(\"Accuracy =\",acc)"
   ]
  },
  {
   "cell_type": "code",
   "execution_count": 117,
   "id": "imported-israeli",
   "metadata": {},
   "outputs": [
    {
     "name": "stdout",
     "output_type": "stream",
     "text": [
      "Accuracy = 0.7230769230769231\n"
     ]
    }
   ],
   "source": [
    "# book review classifier evaluated on book review test set\n",
    "acc = accuracy_score(Ytest, clf.predict(Xtest))\n",
    "print(\"Accuracy =\",acc)"
   ]
  },
  {
   "cell_type": "markdown",
   "id": "affecting-orange",
   "metadata": {},
   "source": [
    "## Testing stuff"
   ]
  },
  {
   "cell_type": "code",
   "execution_count": 8,
   "id": "silver-ultimate",
   "metadata": {},
   "outputs": [
    {
     "name": "stdout",
     "output_type": "stream",
     "text": [
      "['going', 'hi', 'lulz', 'market', 'super', 'welcome']\n"
     ]
    }
   ],
   "source": [
    "import re\n",
    "\n",
    "def preprocess_text(text):\n",
    "    text = text.lower() # make lower case\n",
    "    text = re.sub(r'\\d+', '', text) # remove digits\n",
    "    return text\n",
    "\n",
    "vect = TfidfVectorizer(decode_error='strict', \n",
    "                         strip_accents='unicode',\n",
    "                         analyzer='word',\n",
    "                         stop_words='english',\n",
    "                         preprocessor=preprocess_text,\n",
    "                         max_features=10000\n",
    "                      )\n",
    "vect.fit_transform(['👋 Welcome. hi there you and me are going to the super market lulz :) 123'])\n",
    "print(vect.get_feature_names())"
   ]
  },
  {
   "cell_type": "code",
   "execution_count": 50,
   "id": "confused-bookmark",
   "metadata": {},
   "outputs": [
    {
     "name": "stdout",
     "output_type": "stream",
     "text": [
      "['ability', 'able', 'aborted', 'absolutely', 'accept', 'access', 'according', 'aches', 'across', 'action', 'actual', 'actually', 'administered', 'administration', 'adults', 'adverse', 'affect', 'affected', 'affects', 'afraid', 'age', 'agenda', 'ago', 'agree', 'ahead', 'aids', 'air', 'alive', 'allergic', 'allergies', 'allow', 'allowed', 'almost', 'alone', 'along', 'alot', 'already', 'also', 'although', 'always', 'amazing', 'america', 'americans', 'among', 'amount', 'animal', 'animals', 'annual', 'another', 'answer', 'anti', 'antibodies', 'antivax', 'antivaxx', 'antivaxxers', 'anybody', 'anymore', 'anyone', 'anything', 'anytime', 'anyway', 'apart', 'appointment', 'appreciate', 'approval', 'approved', 'april', 'area', 'argument', 'arm', 'around', 'articles', 'asap', 'aside', 'ask', 'asking', 'asthma', 'astra', 'astrazeneca', 'attack', 'attacks', 'aunt', 'autism', 'autoimmune', 'available', 'average', 'avoid', 'away', 'awesome', 'az', 'babies', 'baby', 'back', 'bad', 'banned', 'based', 'basically', 'bbc', 'bc', 'beast', 'become', 'becomes', 'becoming', 'bed', 'beginning', 'behind', 'believe', 'benefit', 'benefits', 'besides', 'best', 'bet', 'better', 'beyond', 'biden', 'big', 'biggest', 'bill', 'billions', 'biological', 'biontech', 'birth', 'bit', 'black', 'bless', 'blood', 'bodies', 'body', 'booked', 'boost', 'brain', 'brave', 'brilliant', 'bring', 'brother', 'bs', 'build', 'bullshit', 'business', 'businesses', 'call', 'called', 'came', 'cancer', 'cannot', 'cant', 'car', 'care', 'case', 'cases', 'catch', 'catching', 'cause', 'caused', 'causes', 'causing', 'cdc', 'cells', 'certain', 'certainly', 'chance', 'chances', 'change', 'changed', 'chemical', 'chemicals', 'child', 'childhood', 'children', 'chills', 'china', 'chip', 'choice', 'choose', 'citizens', 'clear', 'clearly', 'clinical', 'close', 'closer', 'clot', 'clots', 'co', 'code', 'cold', 'come', 'comes', 'comfortable', 'coming', 'comments', 'common', 'community', 'companies', 'company', 'compared', 'complaining', 'complete', 'completely', 'complications', 'compromised', 'concern', 'concerned', 'conditions', 'confidence', 'confident', 'consent', 'consider', 'considered', 'considering', 'conspiracy', 'contain', 'contains', 'continue', 'contract', 'control', 'convince', 'convinced', 'cool', 'corona', 'coronavirus', 'correct', 'correlation', 'corrupt', 'cost', 'could', 'counting', 'countries', 'country', 'couple', 'course', 'cov', 'cover', 'covid', 'covidvaccine', 'covishield', 'crap', 'crazy', 'create', 'created', 'creating', 'crisis', 'critical', 'cure', 'current', 'currently', 'cut', 'cuz', 'dad', 'daily', 'damage', 'damages', 'damn', 'dangerous', 'data', 'date', 'daughter', 'day', 'days', 'dead', 'deadly', 'deal', 'death', 'deaths', 'decide', 'decided', 'decision', 'decline', 'definitely', 'definition', 'desire', 'despite', 'develop', 'developed', 'developing', 'development', 'diabetes', 'die', 'died', 'diet', 'difference', 'different', 'directly', 'discovered', 'disease', 'diseases', 'disorder', 'distance', 'distancing', 'distribution', 'dna', 'doctor', 'doctors', 'donate', 'done', 'dont', 'dose', 'doses', 'double', 'doubt', 'dr', 'drink', 'drive', 'drug', 'drugs', 'due', 'dumb', 'duty', 'dying', 'early', 'earth', 'easily', 'easy', 'eat', 'education', 'effect', 'effective', 'effectiveness', 'effects', 'efficacy', 'effort', 'either', 'elderly', 'eligible', 'else', 'emergency', 'encourage', 'end', 'ending', 'enough', 'entire', 'eradicated', 'especially', 'essential', 'etc', 'eu', 'even', 'ever', 'every', 'everybody', 'everyone', 'everything', 'evidence', 'evil', 'exactly', 'excellent', 'except', 'excited', 'exist', 'expect', 'experience', 'experiencing', 'experiment', 'experimental', 'experts', 'explain', 'explained', 'explanation', 'exposed', 'extremely', 'eyes', 'face', 'fact', 'facts', 'failure', 'fair', 'faith', 'fake', 'fall', 'false', 'families', 'family', 'fantastic', 'far', 'fast', 'faster', 'fatal', 'fatality', 'father', 'fatigue', 'fauci', 'fda', 'fear', 'fears', 'feel', 'feeling', 'feels', 'feet', 'felt', 'fertility', 'fetal', 'fever', 'fight', 'fighting', 'finally', 'find', 'fine', 'finished', 'first', 'fit', 'five', 'flu', 'folks', 'follow', 'following', 'food', 'fool', 'force', 'forced', 'forcing', 'forever', 'forget', 'forgot', 'form', 'forward', 'found', 'four', 'free', 'freedom', 'friday', 'friend', 'friends', 'front', 'frontline', 'fuck', 'fucking', 'full', 'fully', 'fun', 'funding', 'funny', 'future', 'garbage', 'gates', 'gave', 'gene', 'general', 'genetic', 'germany', 'get', 'gets', 'getting', 'gift', 'give', 'given', 'gives', 'giving', 'glad', 'gladly', 'global', 'go', 'god', 'goes', 'going', 'gone', 'gonna', 'good', 'google', 'got', 'gotta', 'gotten', 'government', 'governments', 'grandma', 'grandparents', 'grateful', 'great', 'greater', 'greatly', 'group', 'groups', 'guarantee', 'guaranteed', 'guess', 'guinea', 'guy', 'guys', 'half', 'hand', 'hands', 'happen', 'happened', 'happening', 'happens', 'happily', 'happy', 'hard', 'hardly', 'harm', 'harmful', 'hate', 'head', 'headache', 'health', 'healthcare', 'healthy', 'hear', 'heard', 'hearing', 'heart', 'hell', 'help', 'helped', 'helping', 'helps', 'herd', 'hesitant', 'high', 'higher', 'highly', 'history', 'hit', 'hoax', 'hold', 'home', 'honestly', 'hope', 'hopefully', 'hoping', 'horrible', 'hospital', 'hospitalized', 'hospitals', 'hour', 'hours', 'however', 'hrs', 'https', 'hug', 'huge', 'human', 'humanity', 'humans', 'hundreds', 'hurt', 'husband', 'id', 'idea', 'idiot', 'idiots', 'ignorance', 'ignorant', 'ill', 'illegal', 'illness', 'im', 'imagine', 'immediately', 'immune', 'immunity', 'immunization', 'immunocompromised', 'important', 'impossible', 'improve', 'include', 'including', 'increase', 'india', 'individual', 'individuals', 'industry', 'infect', 'infected', 'infecting', 'infection', 'infections', 'info', 'information', 'informative', 'informed', 'ingredients', 'inject', 'injected', 'injecting', 'injection', 'injections', 'injured', 'injuries', 'insane', 'inside', 'instead', 'interested', 'interesting', 'involved', 'israel', 'issue', 'issues', 'jab', 'jabs', 'jesus', 'job', 'johnson', 'joke', 'keep', 'keeping', 'keeps', 'kid', 'kids', 'kill', 'killed', 'killing', 'kills', 'kind', 'know', 'knowing', 'knowledge', 'known', 'knows', 'lab', 'lack', 'large', 'last', 'late', 'later', 'law', 'lawsuits', 'lead', 'leading', 'learned', 'least', 'leave', 'left', 'less', 'let', 'lets', 'letting', 'level', 'liability', 'lie', 'lied', 'lies', 'life', 'like', 'likely', 'limited', 'line', 'link', 'list', 'listen', 'listening', 'literally', 'little', 'live', 'lives', 'living', 'lmao', 'load', 'local', 'lockdown', 'lol', 'long', 'longer', 'look', 'looking', 'looks', 'lord', 'lose', 'lost', 'lot', 'lots', 'love', 'loved', 'low', 'luck', 'lucky', 'lying', 'made', 'main', 'major', 'majority', 'make', 'makes', 'making', 'malaria', 'man', 'mandatory', 'manufacturer', 'manufacturers', 'many', 'mark', 'market', 'mask', 'masks', 'mass', 'massive', 'matter', 'may', 'maybe', 'mean', 'means', 'meant', 'measles', 'measures', 'media', 'medical', 'medications', 'medicine', 'medicines', 'meet', 'members', 'might', 'mild', 'million', 'millions', 'mind', 'mine', 'minor', 'minutes', 'misinformation', 'miss', 'missing', 'mmr', 'moderna', 'mom', 'moment', 'monday', 'money', 'month', 'months', 'morning', 'mother', 'move', 'movement', 'moving', 'mrna', 'msm', 'much', 'multiple', 'mum', 'muscle', 'must', 'mutate', 'mutating', 'mutations', 'name', 'national', 'natural', 'naturally', 'nature', 'nd', 'near', 'nearly', 'necessary', 'need', 'needed', 'needle', 'needs', 'negative', 'neither', 'nervous', 'never', 'new', 'news', 'next', 'nhs', 'nice', 'night', 'nobody', 'non', 'none', 'nonsense', 'nope', 'normal', 'normally', 'norway', 'nose', 'nothing', 'noticed', 'number', 'numbers', 'nurse', 'nurses', 'nursing', 'obvious', 'obviously', 'odds', 'offered', 'official', 'often', 'oh', 'oil', 'ok', 'okay', 'old', 'older', 'one', 'ones', 'open', 'operation', 'opinion', 'opportunity', 'option', 'order', 'others', 'otherwise', 'oxford', 'paid', 'pain', 'pandemic', 'parent', 'parents', 'part', 'pass', 'passing', 'passport', 'past', 'patient', 'patients', 'pause', 'pay', 'people', 'per', 'percent', 'perfect', 'perfectly', 'perhaps', 'period', 'person', 'personal', 'personally', 'pfizer', 'pharma', 'pharmaceutical', 'phase', 'phizer', 'pig', 'pigs', 'place', 'placebo', 'plan', 'planet', 'plans', 'play', 'playing', 'please', 'plenty', 'plus', 'point', 'poison', 'polio', 'political', 'politicians', 'politics', 'poor', 'population', 'positive', 'possibility', 'possible', 'possibly', 'post', 'potential', 'power', 'pox', 'ppl', 'pray', 'pregnant', 'president', 'pretty', 'prevent', 'prevents', 'previous', 'priority', 'pro', 'probably', 'problem', 'problems', 'process', 'produce', 'produced', 'producing', 'product', 'production', 'products', 'professional', 'professionals', 'profit', 'program', 'progress', 'proof', 'propaganda', 'proper', 'properly', 'protect', 'protected', 'protection', 'protein', 'proud', 'prove', 'proven', 'proves', 'provide', 'public', 'pure', 'push', 'pushed', 'pushing', 'put', 'putting', 'question', 'questions', 'quick', 'quickly', 'quit', 'quite', 'rare', 'rat', 'rate', 'rates', 'rather', 'rats', 'rd', 'react', 'reaction', 'reactions', 'read', 'ready', 'real', 'reality', 'realize', 'really', 'reason', 'reasonable', 'reasons', 'receive', 'received', 'receiving', 'recently', 'recommend', 'recommended', 'record', 'recovered', 'recovery', 'reduce', 'refuse', 'refuses', 'refusing', 'regardless', 'regular', 'related', 'relief', 'remember', 'report', 'reported', 'reporting', 'reports', 'require', 'required', 'research', 'researchers', 'respect', 'response', 'responsibility', 'responsible', 'rest', 'result', 'results', 'rich', 'rid', 'ridiculous', 'right', 'rights', 'risk', 'risks', 'risky', 'rna', 'roll', 'rolled', 'rolling', 'rollout', 'roulette', 'round', 'run', 'running', 'rush', 'rushed', 'russian', 'sad', 'sadly', 'safe', 'safer', 'safety', 'said', 'sake', 'sars', 'save', 'saved', 'saw', 'say', 'saying', 'says', 'scale', 'scam', 'scare', 'scared', 'scary', 'sceptical', 'schedule', 'scheduled', 'school', 'science', 'scientific', 'scientist', 'scientists', 'second', 'see', 'seeing', 'seem', 'seems', 'seen', 'self', 'selfish', 'sense', 'serious', 'seriously', 'service', 'severe', 'share', 'sharing', 'sheep', 'shit', 'short', 'shot', 'shots', 'show', 'showing', 'shows', 'shut', 'sick', 'side', 'sign', 'signs', 'similar', 'simple', 'simply', 'since', 'single', 'sister', 'site', 'sitting', 'situation', 'skeptical', 'skin', 'slight', 'slow', 'small', 'smart', 'smarter', 'social', 'society', 'solution', 'someone', 'something', 'son', 'soon', 'sooner', 'sore', 'soreness', 'sorry', 'sort', 'sound', 'sounds', 'source', 'south', 'speak', 'specific', 'speed', 'spent', 'spike', 'spread', 'spreading', 'sputnik', 'st', 'staff', 'stage', 'stand', 'start', 'started', 'starting', 'state', 'states', 'stay', 'staying', 'step', 'stick', 'still', 'stop', 'stopped', 'stops', 'straight', 'strain', 'strains', 'strange', 'stroke', 'strong', 'stronger', 'studied', 'studies', 'study', 'stuff', 'stupid', 'stupidity', 'success', 'successful', 'sue', 'sued', 'suffer', 'suffering', 'super', 'support', 'supposed', 'sure', 'surprised', 'survival', 'survive', 'survived', 'suspicious', 'swine', 'symptoms', 'system', 'systems', 'take', 'taken', 'takes', 'taking', 'talk', 'talking', 'target', 'teacher', 'technology', 'tell', 'telling', 'ten', 'term', 'terrible', 'test', 'tested', 'testing', 'tests', 'th', 'thank', 'thankful', 'thanks', 'thats', 'therapy', 'therefore', 'thing', 'things', 'think', 'thinking', 'third', 'tho', 'though', 'thought', 'thousands', 'threat', 'threatening', 'three', 'thursday', 'till', 'time', 'times', 'tired', 'today', 'together', 'told', 'tomorrow', 'took', 'top', 'total', 'totally', 'toxic', 'track', 'transmission', 'travel', 'treat', 'treated', 'treatment', 'trial', 'trials', 'tried', 'true', 'truly', 'trump', 'trust', 'trusted', 'trusting', 'truth', 'try', 'trying', 'tuesday', 'turn', 'turns', 'twice', 'two', 'type', 'types', 'uk', 'unable', 'underlying', 'understand', 'unfortunately', 'united', 'unknown', 'unless', 'unproven', 'untested', 'unvaccinated', 'update', 'upon', 'ur', 'us', 'use', 'used', 'useless', 'using', 'usually', 'vaccin', 'vaccinate', 'vaccinated', 'vaccinating', 'vaccination', 'vaccinations', 'vaccine', 'vaccines', 'vacine', 'value', 'variants', 'various', 'vax', 'vaxers', 'vaxx', 'vaxxed', 'vaxxer', 'vaxxers', 'video', 'videos', 'view', 'virus', 'viruses', 'visit', 'vitamins', 'vulnerable', 'wait', 'waiting', 'wake', 'wanna', 'want', 'wanted', 'wants', 'war', 'warp', 'watch', 'watching', 'water', 'way', 'ways', 'weak', 'weapon', 'wear', 'wearing', 'wednesday', 'week', 'weeks', 'weird', 'well', 'went', 'whatever', 'whether', 'white', 'whole', 'wife', 'wild', 'willing', 'winter', 'wish', 'within', 'without', 'woman', 'women', 'wonder', 'wonderful', 'wont', 'word', 'words', 'work', 'worked', 'worker', 'workers', 'working', 'works', 'world', 'worldwide', 'worried', 'worry', 'worrying', 'worse', 'worth', 'would', 'wow', 'wrong', 'ya', 'yall', 'yay', 'yeah', 'year', 'yearly', 'years', 'yes', 'yesterday', 'yet', 'young', 'youtube', 'zeneca', 'zero', 'zinc', 'zombie', 'zombies']\n"
     ]
    }
   ],
   "source": [
    "from sklearn.feature_extraction.text import TfidfVectorizer\n",
    "from nltk.corpus import stopwords\n",
    "stop_words = stopwords.words('english');\n",
    "\n",
    "# Create feature vectors\n",
    "vectorizer = TfidfVectorizer(decode_error='strict', \n",
    "                             strip_accents='unicode',\n",
    "                             analyzer='word',\n",
    "                             stop_words=stop_words,\n",
    "                             preprocessor=preprocess_text,\n",
    "                             max_features=10000,\n",
    "                             min_df = 5,\n",
    "                             max_df = 0.8,\n",
    "                             sublinear_tf = True,\n",
    "                            )\n",
    "\n",
    "Xtrain_encoded = vectorizer.fit_transform(Xtest)\n",
    "print(vectorizer.get_feature_names())"
   ]
  }
 ],
 "metadata": {
  "kernelspec": {
   "display_name": "Python 3",
   "language": "python",
   "name": "python3"
  },
  "language_info": {
   "codemirror_mode": {
    "name": "ipython",
    "version": 3
   },
   "file_extension": ".py",
   "mimetype": "text/x-python",
   "name": "python",
   "nbconvert_exporter": "python",
   "pygments_lexer": "ipython3",
   "version": "3.7.10"
  }
 },
 "nbformat": 4,
 "nbformat_minor": 5
}
